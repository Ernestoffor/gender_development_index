{
 "cells": [
  {
   "cell_type": "code",
   "execution_count": 1,
   "id": "2ed55aa5",
   "metadata": {},
   "outputs": [],
   "source": [
    "import pandas as pd\n",
    "import numpy as np\n",
    "from bokeh.plotting import figure, show\n",
    "import plotly.express as px\n",
    "import matplotlib.pyplot as plt\n",
    "import seaborn as sns\n"
   ]
  },
  {
   "cell_type": "code",
   "execution_count": 2,
   "id": "2bc07370",
   "metadata": {},
   "outputs": [
    {
     "data": {
      "text/html": [
       "<div>\n",
       "<style scoped>\n",
       "    .dataframe tbody tr th:only-of-type {\n",
       "        vertical-align: middle;\n",
       "    }\n",
       "\n",
       "    .dataframe tbody tr th {\n",
       "        vertical-align: top;\n",
       "    }\n",
       "\n",
       "    .dataframe thead th {\n",
       "        text-align: right;\n",
       "    }\n",
       "</style>\n",
       "<table border=\"1\" class=\"dataframe\">\n",
       "  <thead>\n",
       "    <tr style=\"text-align: right;\">\n",
       "      <th></th>\n",
       "      <th>HDI Rank</th>\n",
       "      <th>Country</th>\n",
       "      <th>GDI_Value</th>\n",
       "      <th>GDI_Group</th>\n",
       "      <th>HDI_Female</th>\n",
       "      <th>HDI_Male</th>\n",
       "      <th>Lif_Expec_Female</th>\n",
       "      <th>Lif_Excep_Male</th>\n",
       "      <th>Excep_Yrs_Schooling_Female</th>\n",
       "      <th>Excep_Yrs_Schooling_Male</th>\n",
       "      <th>Mean_Yrs_Schooling_Female</th>\n",
       "      <th>Mean_Yrs_Schooling_Male</th>\n",
       "      <th>GNI_PC_Female</th>\n",
       "      <th>GNI_PC_Male</th>\n",
       "    </tr>\n",
       "  </thead>\n",
       "  <tbody>\n",
       "    <tr>\n",
       "      <th>0</th>\n",
       "      <td>NaN</td>\n",
       "      <td>NaN</td>\n",
       "      <td>2019</td>\n",
       "      <td>2019</td>\n",
       "      <td>2019</td>\n",
       "      <td>2019</td>\n",
       "      <td>2019</td>\n",
       "      <td>2019</td>\n",
       "      <td>2019</td>\n",
       "      <td>2019</td>\n",
       "      <td>2019</td>\n",
       "      <td>2019</td>\n",
       "      <td>2019</td>\n",
       "      <td>2019</td>\n",
       "    </tr>\n",
       "    <tr>\n",
       "      <th>1</th>\n",
       "      <td>1.0</td>\n",
       "      <td>Norway</td>\n",
       "      <td>0.990</td>\n",
       "      <td>1</td>\n",
       "      <td>0.949</td>\n",
       "      <td>0.959</td>\n",
       "      <td>84.4</td>\n",
       "      <td>80.4</td>\n",
       "      <td>18.8</td>\n",
       "      <td>17.4</td>\n",
       "      <td>13.0</td>\n",
       "      <td>12.8</td>\n",
       "      <td>58,548</td>\n",
       "      <td>74,280</td>\n",
       "    </tr>\n",
       "    <tr>\n",
       "      <th>2</th>\n",
       "      <td>2.0</td>\n",
       "      <td>Ireland</td>\n",
       "      <td>0.981</td>\n",
       "      <td>1</td>\n",
       "      <td>0.943</td>\n",
       "      <td>0.961</td>\n",
       "      <td>83.9</td>\n",
       "      <td>80.7</td>\n",
       "      <td>18.8</td>\n",
       "      <td>18.6</td>\n",
       "      <td>12.9</td>\n",
       "      <td>12.4</td>\n",
       "      <td>55,540</td>\n",
       "      <td>81,401</td>\n",
       "    </tr>\n",
       "    <tr>\n",
       "      <th>3</th>\n",
       "      <td>2.0</td>\n",
       "      <td>Switzerland</td>\n",
       "      <td>0.968</td>\n",
       "      <td>2</td>\n",
       "      <td>0.934</td>\n",
       "      <td>0.965</td>\n",
       "      <td>85.6</td>\n",
       "      <td>81.9</td>\n",
       "      <td>16.2</td>\n",
       "      <td>16.4</td>\n",
       "      <td>12.7</td>\n",
       "      <td>13.6</td>\n",
       "      <td>57,840</td>\n",
       "      <td>81,137</td>\n",
       "    </tr>\n",
       "    <tr>\n",
       "      <th>4</th>\n",
       "      <td>4.0</td>\n",
       "      <td>Hong Kong, China (SAR)</td>\n",
       "      <td>0.972</td>\n",
       "      <td>2</td>\n",
       "      <td>0.933</td>\n",
       "      <td>0.959</td>\n",
       "      <td>87.7</td>\n",
       "      <td>82.0</td>\n",
       "      <td>17.1</td>\n",
       "      <td>16.8</td>\n",
       "      <td>11.9</td>\n",
       "      <td>12.7</td>\n",
       "      <td>45,961</td>\n",
       "      <td>82,993</td>\n",
       "    </tr>\n",
       "  </tbody>\n",
       "</table>\n",
       "</div>"
      ],
      "text/plain": [
       "   HDI Rank                 Country GDI_Value GDI_Group HDI_Female HDI_Male  \\\n",
       "0       NaN                     NaN      2019      2019       2019     2019   \n",
       "1       1.0                  Norway     0.990         1      0.949    0.959   \n",
       "2       2.0                 Ireland     0.981         1      0.943    0.961   \n",
       "3       2.0             Switzerland     0.968         2      0.934    0.965   \n",
       "4       4.0  Hong Kong, China (SAR)     0.972         2      0.933    0.959   \n",
       "\n",
       "  Lif_Expec_Female Lif_Excep_Male Excep_Yrs_Schooling_Female  \\\n",
       "0             2019           2019                       2019   \n",
       "1             84.4           80.4                       18.8   \n",
       "2             83.9           80.7                       18.8   \n",
       "3             85.6           81.9                       16.2   \n",
       "4             87.7           82.0                       17.1   \n",
       "\n",
       "  Excep_Yrs_Schooling_Male Mean_Yrs_Schooling_Female Mean_Yrs_Schooling_Male  \\\n",
       "0                     2019                      2019                    2019   \n",
       "1                     17.4                      13.0                    12.8   \n",
       "2                     18.6                      12.9                    12.4   \n",
       "3                     16.4                      12.7                    13.6   \n",
       "4                     16.8                      11.9                    12.7   \n",
       "\n",
       "  GNI_PC_Female GNI_PC_Male  \n",
       "0          2019        2019  \n",
       "1        58,548      74,280  \n",
       "2        55,540      81,401  \n",
       "3        57,840      81,137  \n",
       "4        45,961      82,993  "
      ]
     },
     "execution_count": 2,
     "metadata": {},
     "output_type": "execute_result"
    }
   ],
   "source": [
    "def load_data(filepath):\n",
    "    \"\"\"Loads a dataset as pandas dataframe\n",
    "    INPUTS:\n",
    "        filepath > path to the file to be loaded\n",
    "    OUTPUT:\n",
    "        df > a pandas dataframe\n",
    "        \n",
    "    \"\"\"\n",
    "    df = pd.read_csv(filepath)\n",
    "    return df\n",
    "\n",
    "\n",
    "df = load_data('GDI.csv')\n",
    "df.head()"
   ]
  },
  {
   "cell_type": "markdown",
   "id": "9917011a",
   "metadata": {},
   "source": [
    "### Data understanding  \n",
    "\n",
    "* 190 rows of data \n",
    "* 14 features\n",
    "* 2 missing values\n",
    "* 21 countries have \n",
    "\n",
    "#### Features\n",
    "\n",
    "1. HDI Rank\n",
    "2. Country\n",
    "3. GDI_Value\n",
    "4. GDI_Group\n",
    "5. HDI_Female\n",
    "6. HDI_Male\n",
    "7. Lif_Expec_Female - Life Expectancy of Females\n",
    "8. Lif_Excep_Male   - Life Expectancy of Males\n",
    "9. Excep_Yrs_Schooling_Female - Expected years of schooling \n",
    "10. Excep_Yrs_Schooling_Male - Expected years of schooling \n",
    "11. Mean_Yrs_Schooling_Female - Mean years of schooling \n",
    "12. Mean_Yrs_Schooling_Male -  Mean years of schooling \n",
    "13. GNI_PC_Female  - Gross National Income Female\n",
    "14. GNI_PC_Male    - Gross National Income Male\n",
    "\n",
    "#### Countries without GDI values for the year under review\n",
    "1. Liechtenstein\n",
    "2. Andorra\n",
    "3. Palau\n",
    "4. Bahamas\n",
    "5. Seychelles\n",
    "6. Grenada\n",
    "7. Saint Kitts and Nevis\n",
    "8. Antigua and Barbuda\n",
    "9. Fiji\n",
    "10.  Dominica\n",
    "11. Samoa\n",
    "12. Marshall Islands\n",
    "13. Kiribati\n",
    "14. Micronesia (Federated States of)\n",
    "15. Vanuatu\n",
    "16. Solomon Islands\n",
    "17. Papua New Guinea\n",
    "18. Djibouti\n",
    "19. Guinea-Bissau \n",
    "20. Eritrea\n",
    "21. Equatorial Guinea\n",
    "22. Turkmenistan\n"
   ]
  },
  {
   "cell_type": "markdown",
   "id": "4b232a1b",
   "metadata": {},
   "source": [
    "###  Data Preparation/Cleaning:\n",
    "The following data preparation steps are taken:\n",
    "\n",
    "* Drop First Row for it has 2 missing values and other columns have year 2019 as values\n",
    "* Drop rows with undefined GDI_Value \n",
    "* Remove the commas ',' in GNI_PC_Female, GNI_PC_Male and HDI Rank columns\n",
    "* Rename 'Lif_Expec_Female' and 'Lif_Excep_Male' columns\n",
    "* Change all the non-textual columns to numerical data types\n"
   ]
  },
  {
   "cell_type": "code",
   "execution_count": 3,
   "id": "2fccaffa",
   "metadata": {},
   "outputs": [],
   "source": [
    "def prepare_data(df):\n",
    "    \"\"\"\n",
    "    Clean and prepare data for analysis and visualizations\n",
    "    INPUT:\n",
    "        df --> uncleaned dataframe\n",
    "    RETURNS:\n",
    "        df --> cleaned dataframe\n",
    "    \"\"\"\n",
    "    # Make a copy of df\n",
    "    df = df.copy()\n",
    "    df =df.drop([0])\n",
    "    # Drop rows with undefined GDI_Value \n",
    "    df = df.drop(df[df['GDI_Value'] =='..'].index)\n",
    "    # Remove ',' form GNI_PC\n",
    "    df['GNI_PC_Female'] = df['GNI_PC_Female'].str.replace(',','')\n",
    "    df['GNI_PC_Male'] = df['GNI_PC_Male'].str.replace(',','')\n",
    "    \n",
    "    # Rename some columns\n",
    "    df = df.rename(columns = {'Lif_Expec_Female' : 'Life_Expectancy_Female', \n",
    "                              'Lif_Excep_Male': 'Life_Expectancy_Male',\n",
    "                         'HDI Rank':'HDI_Rank'})\n",
    "    # Change all the non-textual columns to numerical data types\n",
    "    columns = ['GDI_Value', 'GDI_Group', 'HDI_Female',  'HDI_Male', 'Life_Expectancy_Female', \n",
    "           'Life_Expectancy_Male','Excep_Yrs_Schooling_Female', 'Excep_Yrs_Schooling_Male',\n",
    "           'Mean_Yrs_Schooling_Female', 'Mean_Yrs_Schooling_Male', 'GNI_PC_Female',\n",
    "           'GNI_PC_Male']\n",
    "    for col in columns:\n",
    "        df[col] = df[col].astype('float')\n",
    "    df['HDI_Rank'] = df['HDI_Rank'].astype('int')\n",
    "    \n",
    "   \n",
    "    return df\n",
    "\n",
    "\n",
    "    \n",
    "    "
   ]
  },
  {
   "cell_type": "code",
   "execution_count": 4,
   "id": "4fd6caec",
   "metadata": {},
   "outputs": [],
   "source": [
    "df = prepare_data(df)"
   ]
  },
  {
   "cell_type": "markdown",
   "id": "e8007d50",
   "metadata": {},
   "source": [
    "#### Question\n",
    "\n",
    "**Which of the HDI Indicators lead to highest GDI gaps?**\n",
    "\n",
    "The Gross National Income per Capita (GNI_PC) is the major cause of disparity in GDIs against females. Findings from the data indicates that GNI_PC fevours males as 164  out of the 167 countries have GNI_PC of males higher than those of their female counterparts. On the other hand, women are 100 percent better than men in terms of life expectancies as the life expectancies of females in 167 out of the 167 countries of interest are higher than those of men. On the education dimension, 48 out of the 167 countries have average number of years of schooling of females more than those of males. These indicators are shown in the table below.\n",
    "\n",
    "!['Indicators'](images/indicators_2019.png)"
   ]
  },
  {
   "cell_type": "code",
   "execution_count": 13,
   "id": "6ac28fd3",
   "metadata": {},
   "outputs": [
    {
     "data": {
      "text/plain": [
       "167"
      ]
     },
     "execution_count": 13,
     "metadata": {},
     "output_type": "execute_result"
    }
   ],
   "source": [
    "\n",
    "df[(df.GNI_PC_Female > df.GNI_PC_Male)]\n",
    "\n",
    "df[(df.Mean_Yrs_Schooling_Female > df.Mean_Yrs_Schooling_Male)]\n",
    "df[(df.Life_Expectancy_Female > df.Life_Expectancy_Male)]"
   ]
  },
  {
   "cell_type": "code",
   "execution_count": 15,
   "id": "5ee788ad",
   "metadata": {},
   "outputs": [
    {
     "data": {
      "text/plain": [
       "141    Timor-Leste\n",
       "146         Zambia\n",
       "185        Burundi\n",
       "Name: Country, dtype: object"
      ]
     },
     "execution_count": 15,
     "metadata": {},
     "output_type": "execute_result"
    }
   ],
   "source": [
    "df[(df.GNI_PC_Female > df.GNI_PC_Male)].iloc[:, 1]"
   ]
  },
  {
   "cell_type": "code",
   "execution_count": 4,
   "id": "6111caff",
   "metadata": {},
   "outputs": [
    {
     "data": {
      "text/plain": [
       "array(['Liechtenstein', 'Andorra', 'Palau', 'Bahamas', 'Seychelles',\n",
       "       'Grenada', 'Saint Kitts and Nevis', 'Antigua and Barbuda', 'Fiji',\n",
       "       'Dominica', 'Samoa', 'Turkmenistan', 'Marshall Islands',\n",
       "       'Kiribati', 'Micronesia (Federated States of)', 'Vanuatu',\n",
       "       'Equatorial Guinea', 'Solomon Islands', 'Papua New Guinea',\n",
       "       'Djibouti', 'Guinea-Bissau', 'Eritrea'], dtype=object)"
      ]
     },
     "execution_count": 4,
     "metadata": {},
     "output_type": "execute_result"
    }
   ],
   "source": [
    "# Countries with undefined GDI_Value \n",
    "df[df['GDI_Value'] =='..']['Country'].values\n"
   ]
  },
  {
   "cell_type": "code",
   "execution_count": 32,
   "id": "e644b02f",
   "metadata": {},
   "outputs": [],
   "source": [
    "def plot_hdi_gdi(df, num=10, top=1):\n",
    "    \"\"\"Plot of num Countries with highest or least GDIs with their HDIs\"\"\"\n",
    "    if top ==1:\n",
    "        df = df[(df.GDI_Value>=1) & (df.HDI_Male>=0.8)]\n",
    "        df = df.sort_values(by='GDI_Value', ascending=False).head(num)\n",
    "        #num = df.shape[0]\n",
    "        title = f\"Top {num} Countries in Gender Development Index and their HDIs\"\n",
    "    elif top==2:\n",
    "        df = df[(df.GDI_Value>=0.7) & (df.HDI_Male <= 0.5)]\n",
    "        title = f\"{num} Countries with High GDIs and Low HDIs\"\n",
    "        \n",
    "    else:\n",
    "        df = df.sort_values(by='GDI_Value').head(num)\n",
    "        title = f\"{num} Countries With the Least GDIs and Their HDIs\"\n",
    "    X = df['Country']\n",
    "    HDI_Male = df['HDI_Male']\n",
    "    HDI_Female = df['HDI_Male']\n",
    "    GDI = df['GDI_Value']\n",
    "    plt.figure(figsize=(15,6))\n",
    "  \n",
    "    X_axis = np.arange(len(X))\n",
    "  \n",
    "    plt.bar(X_axis - 0.3,HDI_Male, 0.3, label = 'HDI_Male')\n",
    "    plt.bar(X_axis - 0.0,HDI_Female, 0.3, label = 'HDI_Female')\n",
    "    plt.bar(X_axis + 0.3, GDI,0.3, label = 'GDI')\n",
    "  \n",
    "    plt.xticks(X_axis, X)\n",
    "    plt.xlabel(\"Countries\")\n",
    "    plt.ylabel(\"HDIs and GDIs\")\n",
    "    plt.title(title)\n",
    "    plt.legend()\n",
    "    plt.show()\n",
    "    "
   ]
  },
  {
   "cell_type": "markdown",
   "id": "55eb1fba",
   "metadata": {},
   "source": [
    "#### Question\n",
    "**What are the top Countries in terms of GDIs in 2019 and their HDIs?**\n",
    "There are specifically 21 countries whose GDIs were 1 or more in 2019. They are Latvia,, Lithuania, Qatar, Mongolia, Panama, Estonia, Uruguay, Lesotho, Moldova (Republic of), Nicaragua, Venezuela (Bolivarian Republic of), Thailand, Barbados, Belarus, Philippines, Russian Federation, Poland, Namibia, Trinidad and Tobago and Slovenia,Ukraine. The diagram below depicts the top 8 countries in terms of GDIs and their corresponding HDIs.\n",
    "\n",
    "#!['top 8 countries](image/top8.png)"
   ]
  },
  {
   "cell_type": "code",
   "execution_count": 24,
   "id": "392a64fa",
   "metadata": {},
   "outputs": [
    {
     "data": {
      "image/png": "[encoded data removed]",
      "text/plain": [
       "<Figure size 864x432 with 1 Axes>"
      ]
     },
     "metadata": {
      "needs_background": "light"
     },
     "output_type": "display_data"
    }
   ],
   "source": [
    "df[df.GDI_Value>=1].sort_values(by='GDI_Value', ascending=False).iloc[:,1].values\n",
    "plot_hdi_gdi(df, num=8)"
   ]
  },
  {
   "cell_type": "code",
   "execution_count": 37,
   "id": "ea776f2a",
   "metadata": {},
   "outputs": [
    {
     "data": {
      "text/plain": [
       "array(['Latvia', 'Lithuania', 'Qatar', 'Mongolia', 'Panama', 'Estonia',\n",
       "       'Uruguay', 'Lesotho', 'Moldova (Republic of)', 'Nicaragua',\n",
       "       'Venezuela (Bolivarian Republic of)', 'Thailand', 'Barbados',\n",
       "       'Belarus', 'Philippines', 'Russian Federation', 'Poland',\n",
       "       'Namibia', 'Trinidad and Tobago', 'Slovenia', 'Ukraine'],\n",
       "      dtype=object)"
      ]
     },
     "execution_count": 37,
     "metadata": {},
     "output_type": "execute_result"
    }
   ],
   "source": [
    "df[df.GDI_Value>=1].sort_values(by='GDI_Value', ascending=False).iloc[:,1].values"
   ]
  },
  {
   "cell_type": "code",
   "execution_count": 45,
   "id": "97760cb0",
   "metadata": {},
   "outputs": [
    {
     "data": {
      "image/png": "[encoded data removed]",
      "text/plain": [
       "<Figure size 864x432 with 1 Axes>"
      ]
     },
     "metadata": {
      "needs_background": "light"
     },
     "output_type": "display_data"
    }
   ],
   "source": [
    "X = df['Country'].head(5)\n",
    "HDI1 = df['HDI_Male'].head()\n",
    "HDI2 = df['HDI_Female'].head()\n",
    "\n",
    "GDI = df['GDI_Value'].head()\n",
    "plt.figure(figsize=(12,6))\n",
    "  \n",
    "X_axis = np.arange(len(X))\n",
    "  \n",
    "plt.bar(X_axis - 0.3,HDI1, 0.3, label = 'HDI_Male')\n",
    "plt.bar(X_axis - 0.0,HDI2, 0.3, label = 'HDI_Female')\n",
    "plt.bar(X_axis + 0.3, GDI,0.3, label = 'GDI')\n",
    "  \n",
    "plt.xticks(X_axis, X)\n",
    "plt.xlabel(\"Countries\")\n",
    "plt.ylabel(\"Male HDI and GDI of Countries\")\n",
    "plt.title(\"10 Countries With Least GDI and Their Male HDIs\")\n",
    "plt.legend()\n",
    "plt.show()"
   ]
  },
  {
   "cell_type": "code",
   "execution_count": 34,
   "id": "4d63c5b7",
   "metadata": {},
   "outputs": [
    {
     "data": {
      "image/png": "[encoded data removed]",
      "text/plain": [
       "<Figure size 1080x432 with 1 Axes>"
      ]
     },
     "metadata": {
      "needs_background": "light"
     },
     "output_type": "display_data"
    }
   ],
   "source": [
    "plot_hdi_gdi(df, top=True, num = 5)"
   ]
  },
  {
   "cell_type": "code",
   "execution_count": 29,
   "id": "3b335e09",
   "metadata": {},
   "outputs": [],
   "source": [
    "def plot_hd_indices(df, num=5, top=False):\n",
    "    query = int(input(\"Enter 1 for Life Expectancy, 2 for Average Years of Education or 3 for GNI_PC:   \"))\n",
    "    \n",
    "    if top:\n",
    "        if top:\n",
    "            df = df[(df.GDI_Value>=1) & (df.HDI_Male>=0.8)]\n",
    "            df = df.sort_values(by='GDI_Value', ascending=False).head(num)\n",
    "            #num = df.shape[0]\n",
    "            title1 = \"highest\"\n",
    "    else:\n",
    "        df = df.sort_values(by='GDI_Value').head(num)\n",
    "        title1 = \"least\"\n",
    "    X = df['Country']\n",
    "    \n",
    "    if query == 1:\n",
    "        Female = df['Life_Expectancy_Female']\n",
    "\n",
    "        Male = df['Life_Expectancy_Male']\n",
    "        title = f\"Life Expectancies of {num} Countries with {title1} GDIs\"\n",
    "        ylabel = \"Life Expectancies in Years.\"\n",
    "    elif query == 2: \n",
    "        Female = df['Mean_Yrs_Schooling_Female']\n",
    "\n",
    "        Male = df['Mean_Yrs_Schooling_Male']\n",
    "        title = f\"Average Years of Education in {num} Countries with {title1} GDIs\"\n",
    "        ylabel = \"Average Years of Education\"\n",
    "    else:\n",
    "        Female = df['GNI_PC_Female']\n",
    "\n",
    "        Male =  df['GNI_PC_Male']\n",
    "        title = f\"Gross National Income Per Capita of {num} Countries with {title1} GDIs\"\n",
    "        ylabel = \"Gross National Income Per Capita in $\"\n",
    "        \n",
    "    X_axis = np.arange(len(X))\n",
    "    plt.figure(figsize=(15,6))  \n",
    "    plt.bar(X_axis - 0.2,Female, 0.4, label = 'Female')\n",
    "    plt.bar(X_axis + 0.2, Male,0.4, label = ' Male')\n",
    "  \n",
    "    plt.xticks(X_axis, X)\n",
    "    plt.xlabel(\"Countries\")\n",
    "    plt.ylabel(ylabel)\n",
    "    plt.title(f\"{title} in 2019\")\n",
    "    plt.legend()\n",
    "    plt.show()\n"
   ]
  },
  {
   "cell_type": "code",
   "execution_count": 30,
   "id": "4ceb4658",
   "metadata": {},
   "outputs": [
    {
     "name": "stdout",
     "output_type": "stream",
     "text": [
      "Enter 1 for Life Expectancy, 2 for Average Years of Education or 3 for GNI_PC:   2\n"
     ]
    },
    {
     "data": {
      "image/png": "[encoded data removed]",
      "text/plain": [
       "<Figure size 1080x432 with 1 Axes>"
      ]
     },
     "metadata": {
      "needs_background": "light"
     },
     "output_type": "display_data"
    }
   ],
   "source": [
    "plot_hd_indices(df, num=5, top=False)"
   ]
  },
  {
   "cell_type": "markdown",
   "id": "5da0b6cc",
   "metadata": {},
   "source": [
    "#### Question \n",
    "**Are all countries with high GDI values have high HDIs?**\n",
    "#### Answer\n",
    "Not all the countries with high GDI values have high HDI values. There are  10 countries with GDI values more than 0.7 whose HDI values are less than 0.5. The countries are: Malawi, Mozambique, Burkina Faso, Sierra Leone, Mali, Burundi, South Sudan, Chad and Central African Republic. These are all incidentally African countries.  5 of them shown in the diagram below. \n"
   ]
  },
  {
   "cell_type": "code",
   "execution_count": 33,
   "id": "7789623f",
   "metadata": {},
   "outputs": [
    {
     "data": {
      "image/png": "[encoded data removed]",
      "text/plain": [
       "<Figure size 1080x432 with 1 Axes>"
      ]
     },
     "metadata": {
      "needs_background": "light"
     },
     "output_type": "display_data"
    }
   ],
   "source": [
    "dhl = df[(df.GDI_Value>=0.7) & (df.HDI_Male <= 0.5)]\n",
    "# dhl.iloc[:,1]\n",
    "plot_hdi_gdi(df,num=5 , top=2)"
   ]
  },
  {
   "cell_type": "markdown",
   "id": "e9b0d0d9",
   "metadata": {},
   "source": [
    "####  Question\n",
    "**5 Countries with Worst GDIs?**\n",
    "\n",
    "There are many countries with terrible GDIs, prominent among them are: Yemen, Afghanistan, Niger, Pakistan and Chad.\n",
    "There pictorial representations are depicted in the chart below. "
   ]
  },
  {
   "cell_type": "code",
   "execution_count": 36,
   "id": "b68a9903",
   "metadata": {},
   "outputs": [
    {
     "data": {
      "image/png": "[encoded data removed]",
      "text/plain": [
       "<Figure size 1080x432 with 1 Axes>"
      ]
     },
     "metadata": {
      "needs_background": "light"
     },
     "output_type": "display_data"
    }
   ],
   "source": [
    "plot_hdi_gdi(df,top=0,num = 5)"
   ]
  }
 ],
 "metadata": {
  "kernelspec": {
   "display_name": "Python 3",
   "language": "python",
   "name": "python3"
  },
  "language_info": {
   "codemirror_mode": {
    "name": "ipython",
    "version": 3
   },
   "file_extension": ".py",
   "mimetype": "text/x-python",
   "name": "python",
   "nbconvert_exporter": "python",
   "pygments_lexer": "ipython3",
   "version": "3.8.8"
  }
 },
 "nbformat": 4,
 "nbformat_minor": 5
}
